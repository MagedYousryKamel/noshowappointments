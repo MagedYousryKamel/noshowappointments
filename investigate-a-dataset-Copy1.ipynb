{
 "cells": [
  {
   "cell_type": "markdown",
   "metadata": {},
   "source": [
    "\n",
    "\n",
    "# Project: No Show appointments analysis\n",
    "## Introduction\n",
    "### Data description\n",
    "> This dataset collects information from 100k medical appointments in Brazil and is focused on the question of whether or not patients show up for their appointment. A number of characteristics about the patient are included in each row.\n",
    "<br />\n",
    "* ‘ScheduledDay’ tells us on what day the patient set up their appointment.\n",
    "* ‘Neighborhood’ indicates the location of the hospital.\n",
    "* ‘Scholarship’ indicates whether or not the patient is enrolled in Brasilian welfare program Bolsa Família.\n",
    "* Be careful about the encoding of the last column: it says ‘No’ if the patient showed up to their appointment, and ‘Yes’ if they did not show up.\n",
    "\n",
    "### Questions which will be answered in this project\n",
    "1. What is the overall percentage of the people showed-up on the appointment?\n",
    "2. How may the demographics like gender and age affect the percentage of the no-show?\n",
    "3. Is sending a SMS to each patient as a confirmation and reminder for the appointment date a good solution to reduce the now show percentage ?\n",
    "4. What are the most factors that effect the patient to show up on time?\n",
    "\n",
    "### Table of Contents\n",
    "<ul>\n",
    "<li><a href=\"#intro\">Introduction</a></li>\n",
    "<li><a href=\"#wrangling\">Data Wrangling</a></li>\n",
    "<li><a href=\"#eda\">Exploratory Data Analysis</a></li>\n",
    "<li><a href=\"#conclusions\">Conclusions</a></li>\n",
    "</ul>"
   ]
  },
  {
   "cell_type": "markdown",
   "metadata": {},
   "source": [
    "<a id='intro'></a>\n",
    "## Introduction\n"
   ]
  },
  {
   "cell_type": "code",
   "execution_count": 1,
   "metadata": {},
   "outputs": [],
   "source": [
    "import pandas as pd\n",
    "import numpy as np\n",
    "import matplotlib.pyplot as plt\n",
    "import seaborn as sns\n",
    "%matplotlib inline\n"
   ]
  },
  {
   "cell_type": "markdown",
   "metadata": {},
   "source": [
    "<a id='wrangling'></a>\n",
    "## Data Wrangling\n",
    "\n",
    "\n",
    "### General Properties"
   ]
  },
  {
   "cell_type": "code",
   "execution_count": 2,
   "metadata": {
    "scrolled": true
   },
   "outputs": [
    {
     "data": {
      "text/html": [
       "<div>\n",
       "<style scoped>\n",
       "    .dataframe tbody tr th:only-of-type {\n",
       "        vertical-align: middle;\n",
       "    }\n",
       "\n",
       "    .dataframe tbody tr th {\n",
       "        vertical-align: top;\n",
       "    }\n",
       "\n",
       "    .dataframe thead th {\n",
       "        text-align: right;\n",
       "    }\n",
       "</style>\n",
       "<table border=\"1\" class=\"dataframe\">\n",
       "  <thead>\n",
       "    <tr style=\"text-align: right;\">\n",
       "      <th></th>\n",
       "      <th>PatientId</th>\n",
       "      <th>AppointmentID</th>\n",
       "      <th>Gender</th>\n",
       "      <th>ScheduledDay</th>\n",
       "      <th>AppointmentDay</th>\n",
       "      <th>Age</th>\n",
       "      <th>Neighbourhood</th>\n",
       "      <th>Scholarship</th>\n",
       "      <th>Hipertension</th>\n",
       "      <th>Diabetes</th>\n",
       "      <th>Alcoholism</th>\n",
       "      <th>Handcap</th>\n",
       "      <th>SMS_received</th>\n",
       "      <th>No-show</th>\n",
       "    </tr>\n",
       "  </thead>\n",
       "  <tbody>\n",
       "    <tr>\n",
       "      <th>0</th>\n",
       "      <td>2.987250e+13</td>\n",
       "      <td>5642903</td>\n",
       "      <td>F</td>\n",
       "      <td>2016-04-29T18:38:08Z</td>\n",
       "      <td>2016-04-29T00:00:00Z</td>\n",
       "      <td>62</td>\n",
       "      <td>JARDIM DA PENHA</td>\n",
       "      <td>0</td>\n",
       "      <td>1</td>\n",
       "      <td>0</td>\n",
       "      <td>0</td>\n",
       "      <td>0</td>\n",
       "      <td>0</td>\n",
       "      <td>No</td>\n",
       "    </tr>\n",
       "    <tr>\n",
       "      <th>1</th>\n",
       "      <td>5.589978e+14</td>\n",
       "      <td>5642503</td>\n",
       "      <td>M</td>\n",
       "      <td>2016-04-29T16:08:27Z</td>\n",
       "      <td>2016-04-29T00:00:00Z</td>\n",
       "      <td>56</td>\n",
       "      <td>JARDIM DA PENHA</td>\n",
       "      <td>0</td>\n",
       "      <td>0</td>\n",
       "      <td>0</td>\n",
       "      <td>0</td>\n",
       "      <td>0</td>\n",
       "      <td>0</td>\n",
       "      <td>No</td>\n",
       "    </tr>\n",
       "    <tr>\n",
       "      <th>2</th>\n",
       "      <td>4.262962e+12</td>\n",
       "      <td>5642549</td>\n",
       "      <td>F</td>\n",
       "      <td>2016-04-29T16:19:04Z</td>\n",
       "      <td>2016-04-29T00:00:00Z</td>\n",
       "      <td>62</td>\n",
       "      <td>MATA DA PRAIA</td>\n",
       "      <td>0</td>\n",
       "      <td>0</td>\n",
       "      <td>0</td>\n",
       "      <td>0</td>\n",
       "      <td>0</td>\n",
       "      <td>0</td>\n",
       "      <td>No</td>\n",
       "    </tr>\n",
       "    <tr>\n",
       "      <th>3</th>\n",
       "      <td>8.679512e+11</td>\n",
       "      <td>5642828</td>\n",
       "      <td>F</td>\n",
       "      <td>2016-04-29T17:29:31Z</td>\n",
       "      <td>2016-04-29T00:00:00Z</td>\n",
       "      <td>8</td>\n",
       "      <td>PONTAL DE CAMBURI</td>\n",
       "      <td>0</td>\n",
       "      <td>0</td>\n",
       "      <td>0</td>\n",
       "      <td>0</td>\n",
       "      <td>0</td>\n",
       "      <td>0</td>\n",
       "      <td>No</td>\n",
       "    </tr>\n",
       "    <tr>\n",
       "      <th>4</th>\n",
       "      <td>8.841186e+12</td>\n",
       "      <td>5642494</td>\n",
       "      <td>F</td>\n",
       "      <td>2016-04-29T16:07:23Z</td>\n",
       "      <td>2016-04-29T00:00:00Z</td>\n",
       "      <td>56</td>\n",
       "      <td>JARDIM DA PENHA</td>\n",
       "      <td>0</td>\n",
       "      <td>1</td>\n",
       "      <td>1</td>\n",
       "      <td>0</td>\n",
       "      <td>0</td>\n",
       "      <td>0</td>\n",
       "      <td>No</td>\n",
       "    </tr>\n",
       "  </tbody>\n",
       "</table>\n",
       "</div>"
      ],
      "text/plain": [
       "      PatientId  AppointmentID Gender          ScheduledDay  \\\n",
       "0  2.987250e+13        5642903      F  2016-04-29T18:38:08Z   \n",
       "1  5.589978e+14        5642503      M  2016-04-29T16:08:27Z   \n",
       "2  4.262962e+12        5642549      F  2016-04-29T16:19:04Z   \n",
       "3  8.679512e+11        5642828      F  2016-04-29T17:29:31Z   \n",
       "4  8.841186e+12        5642494      F  2016-04-29T16:07:23Z   \n",
       "\n",
       "         AppointmentDay  Age      Neighbourhood  Scholarship  Hipertension  \\\n",
       "0  2016-04-29T00:00:00Z   62    JARDIM DA PENHA            0             1   \n",
       "1  2016-04-29T00:00:00Z   56    JARDIM DA PENHA            0             0   \n",
       "2  2016-04-29T00:00:00Z   62      MATA DA PRAIA            0             0   \n",
       "3  2016-04-29T00:00:00Z    8  PONTAL DE CAMBURI            0             0   \n",
       "4  2016-04-29T00:00:00Z   56    JARDIM DA PENHA            0             1   \n",
       "\n",
       "   Diabetes  Alcoholism  Handcap  SMS_received No-show  \n",
       "0         0           0        0             0      No  \n",
       "1         0           0        0             0      No  \n",
       "2         0           0        0             0      No  \n",
       "3         0           0        0             0      No  \n",
       "4         1           0        0             0      No  "
      ]
     },
     "execution_count": 2,
     "metadata": {},
     "output_type": "execute_result"
    }
   ],
   "source": [
    "# Load your data and print out a few lines. Perform operations to inspect data\n",
    "#   types and look for instances of missing or possibly errant data.\n",
    "df = pd.read_csv('noshowappointments-kagglev2-may-2016.csv')\n",
    "df.head()"
   ]
  },
  {
   "cell_type": "code",
   "execution_count": 3,
   "metadata": {},
   "outputs": [],
   "source": [
    "def see(data):\n",
    "    \"\"\" Returns the dataframe description and first 5 line \"\"\"\n",
    "    print(\"First 5 rows\",data.head())\n",
    "    print(\"Shape\",data.shape)\n",
    "    print(\"Data description\",data.describe())\n",
    "    print(\"Info\",data.info())"
   ]
  },
  {
   "cell_type": "code",
   "execution_count": 4,
   "metadata": {},
   "outputs": [
    {
     "name": "stdout",
     "output_type": "stream",
     "text": [
      "First 5 rows       PatientId  AppointmentID Gender          ScheduledDay  \\\n",
      "0  2.987250e+13        5642903      F  2016-04-29T18:38:08Z   \n",
      "1  5.589978e+14        5642503      M  2016-04-29T16:08:27Z   \n",
      "2  4.262962e+12        5642549      F  2016-04-29T16:19:04Z   \n",
      "3  8.679512e+11        5642828      F  2016-04-29T17:29:31Z   \n",
      "4  8.841186e+12        5642494      F  2016-04-29T16:07:23Z   \n",
      "\n",
      "         AppointmentDay  Age      Neighbourhood  Scholarship  Hipertension  \\\n",
      "0  2016-04-29T00:00:00Z   62    JARDIM DA PENHA            0             1   \n",
      "1  2016-04-29T00:00:00Z   56    JARDIM DA PENHA            0             0   \n",
      "2  2016-04-29T00:00:00Z   62      MATA DA PRAIA            0             0   \n",
      "3  2016-04-29T00:00:00Z    8  PONTAL DE CAMBURI            0             0   \n",
      "4  2016-04-29T00:00:00Z   56    JARDIM DA PENHA            0             1   \n",
      "\n",
      "   Diabetes  Alcoholism  Handcap  SMS_received No-show  \n",
      "0         0           0        0             0      No  \n",
      "1         0           0        0             0      No  \n",
      "2         0           0        0             0      No  \n",
      "3         0           0        0             0      No  \n",
      "4         1           0        0             0      No  \n",
      "Shape (110527, 14)\n",
      "Data description           PatientId  AppointmentID            Age    Scholarship  \\\n",
      "count  1.105270e+05   1.105270e+05  110527.000000  110527.000000   \n",
      "mean   1.474963e+14   5.675305e+06      37.088874       0.098266   \n",
      "std    2.560949e+14   7.129575e+04      23.110205       0.297675   \n",
      "min    3.921784e+04   5.030230e+06      -1.000000       0.000000   \n",
      "25%    4.172614e+12   5.640286e+06      18.000000       0.000000   \n",
      "50%    3.173184e+13   5.680573e+06      37.000000       0.000000   \n",
      "75%    9.439172e+13   5.725524e+06      55.000000       0.000000   \n",
      "max    9.999816e+14   5.790484e+06     115.000000       1.000000   \n",
      "\n",
      "        Hipertension       Diabetes     Alcoholism        Handcap  \\\n",
      "count  110527.000000  110527.000000  110527.000000  110527.000000   \n",
      "mean        0.197246       0.071865       0.030400       0.022248   \n",
      "std         0.397921       0.258265       0.171686       0.161543   \n",
      "min         0.000000       0.000000       0.000000       0.000000   \n",
      "25%         0.000000       0.000000       0.000000       0.000000   \n",
      "50%         0.000000       0.000000       0.000000       0.000000   \n",
      "75%         0.000000       0.000000       0.000000       0.000000   \n",
      "max         1.000000       1.000000       1.000000       4.000000   \n",
      "\n",
      "        SMS_received  \n",
      "count  110527.000000  \n",
      "mean        0.321026  \n",
      "std         0.466873  \n",
      "min         0.000000  \n",
      "25%         0.000000  \n",
      "50%         0.000000  \n",
      "75%         1.000000  \n",
      "max         1.000000  \n",
      "<class 'pandas.core.frame.DataFrame'>\n",
      "RangeIndex: 110527 entries, 0 to 110526\n",
      "Data columns (total 14 columns):\n",
      " #   Column          Non-Null Count   Dtype  \n",
      "---  ------          --------------   -----  \n",
      " 0   PatientId       110527 non-null  float64\n",
      " 1   AppointmentID   110527 non-null  int64  \n",
      " 2   Gender          110527 non-null  object \n",
      " 3   ScheduledDay    110527 non-null  object \n",
      " 4   AppointmentDay  110527 non-null  object \n",
      " 5   Age             110527 non-null  int64  \n",
      " 6   Neighbourhood   110527 non-null  object \n",
      " 7   Scholarship     110527 non-null  int64  \n",
      " 8   Hipertension    110527 non-null  int64  \n",
      " 9   Diabetes        110527 non-null  int64  \n",
      " 10  Alcoholism      110527 non-null  int64  \n",
      " 11  Handcap         110527 non-null  int64  \n",
      " 12  SMS_received    110527 non-null  int64  \n",
      " 13  No-show         110527 non-null  object \n",
      "dtypes: float64(1), int64(8), object(5)\n",
      "memory usage: 11.8+ MB\n",
      "Info None\n"
     ]
    }
   ],
   "source": [
    "see(df)"
   ]
  },
  {
   "cell_type": "markdown",
   "metadata": {},
   "source": [
    "\n",
    "\n",
    "### Data Cleaning \n"
   ]
  },
  {
   "cell_type": "markdown",
   "metadata": {},
   "source": [
    "\n",
    "\n",
    "#### Checking for duplicated rows in the data\n"
   ]
  },
  {
   "cell_type": "code",
   "execution_count": 5,
   "metadata": {},
   "outputs": [
    {
     "name": "stdout",
     "output_type": "stream",
     "text": [
      "Num of duplicated :  0\n"
     ]
    }
   ],
   "source": [
    "print(\"Num of duplicated : \", + sum(df['AppointmentID'].duplicated()))"
   ]
  },
  {
   "cell_type": "markdown",
   "metadata": {},
   "source": [
    "\n",
    "\n",
    "#### Removing the non-used columns "
   ]
  },
  {
   "cell_type": "code",
   "execution_count": 6,
   "metadata": {},
   "outputs": [],
   "source": [
    "df.drop(['PatientId','AppointmentID','Neighbourhood'], axis=1, inplace=True) # remove unnessory coloumns"
   ]
  },
  {
   "cell_type": "code",
   "execution_count": 7,
   "metadata": {
    "scrolled": true
   },
   "outputs": [
    {
     "name": "stdout",
     "output_type": "stream",
     "text": [
      "First 5 rows   Gender          ScheduledDay        AppointmentDay  Age  Scholarship  \\\n",
      "0      F  2016-04-29T18:38:08Z  2016-04-29T00:00:00Z   62            0   \n",
      "1      M  2016-04-29T16:08:27Z  2016-04-29T00:00:00Z   56            0   \n",
      "2      F  2016-04-29T16:19:04Z  2016-04-29T00:00:00Z   62            0   \n",
      "3      F  2016-04-29T17:29:31Z  2016-04-29T00:00:00Z    8            0   \n",
      "4      F  2016-04-29T16:07:23Z  2016-04-29T00:00:00Z   56            0   \n",
      "\n",
      "   Hipertension  Diabetes  Alcoholism  Handcap  SMS_received No-show  \n",
      "0             1         0           0        0             0      No  \n",
      "1             0         0           0        0             0      No  \n",
      "2             0         0           0        0             0      No  \n",
      "3             0         0           0        0             0      No  \n",
      "4             1         1           0        0             0      No  \n",
      "Shape (110527, 11)\n",
      "Data description                  Age    Scholarship   Hipertension       Diabetes  \\\n",
      "count  110527.000000  110527.000000  110527.000000  110527.000000   \n",
      "mean       37.088874       0.098266       0.197246       0.071865   \n",
      "std        23.110205       0.297675       0.397921       0.258265   \n",
      "min        -1.000000       0.000000       0.000000       0.000000   \n",
      "25%        18.000000       0.000000       0.000000       0.000000   \n",
      "50%        37.000000       0.000000       0.000000       0.000000   \n",
      "75%        55.000000       0.000000       0.000000       0.000000   \n",
      "max       115.000000       1.000000       1.000000       1.000000   \n",
      "\n",
      "          Alcoholism        Handcap   SMS_received  \n",
      "count  110527.000000  110527.000000  110527.000000  \n",
      "mean        0.030400       0.022248       0.321026  \n",
      "std         0.171686       0.161543       0.466873  \n",
      "min         0.000000       0.000000       0.000000  \n",
      "25%         0.000000       0.000000       0.000000  \n",
      "50%         0.000000       0.000000       0.000000  \n",
      "75%         0.000000       0.000000       1.000000  \n",
      "max         1.000000       4.000000       1.000000  \n",
      "<class 'pandas.core.frame.DataFrame'>\n",
      "RangeIndex: 110527 entries, 0 to 110526\n",
      "Data columns (total 11 columns):\n",
      " #   Column          Non-Null Count   Dtype \n",
      "---  ------          --------------   ----- \n",
      " 0   Gender          110527 non-null  object\n",
      " 1   ScheduledDay    110527 non-null  object\n",
      " 2   AppointmentDay  110527 non-null  object\n",
      " 3   Age             110527 non-null  int64 \n",
      " 4   Scholarship     110527 non-null  int64 \n",
      " 5   Hipertension    110527 non-null  int64 \n",
      " 6   Diabetes        110527 non-null  int64 \n",
      " 7   Alcoholism      110527 non-null  int64 \n",
      " 8   Handcap         110527 non-null  int64 \n",
      " 9   SMS_received    110527 non-null  int64 \n",
      " 10  No-show         110527 non-null  object\n",
      "dtypes: int64(7), object(4)\n",
      "memory usage: 9.3+ MB\n",
      "Info None\n"
     ]
    }
   ],
   "source": [
    "see(df)"
   ]
  },
  {
   "cell_type": "markdown",
   "metadata": {},
   "source": [
    "\n",
    "\n",
    "#### Correcting datatypes and checking the values"
   ]
  },
  {
   "cell_type": "code",
   "execution_count": 8,
   "metadata": {},
   "outputs": [],
   "source": [
    "# converting some columns datetime type\n",
    "df['ScheduledDay'] = pd.to_datetime(df['ScheduledDay'])\n",
    "df['AppointmentDay'] = pd.to_datetime(df['AppointmentDay'])"
   ]
  },
  {
   "cell_type": "code",
   "execution_count": 9,
   "metadata": {},
   "outputs": [
    {
     "data": {
      "text/plain": [
       "array(['F', 'M'], dtype=object)"
      ]
     },
     "execution_count": 9,
     "metadata": {},
     "output_type": "execute_result"
    }
   ],
   "source": [
    "df['Gender'].unique() # checking if there's wrong genders"
   ]
  },
  {
   "cell_type": "code",
   "execution_count": 10,
   "metadata": {},
   "outputs": [
    {
     "data": {
      "text/plain": [
       "array(['No', 'Yes'], dtype=object)"
      ]
     },
     "execution_count": 10,
     "metadata": {},
     "output_type": "execute_result"
    }
   ],
   "source": [
    "df['No-show'].unique() # checking if all values are either showed or not showed"
   ]
  },
  {
   "cell_type": "code",
   "execution_count": 11,
   "metadata": {},
   "outputs": [
    {
     "data": {
      "text/plain": [
       "Gender            3540\n",
       "ScheduledDay      3540\n",
       "AppointmentDay    3540\n",
       "Age               3540\n",
       "Scholarship       3540\n",
       "Hipertension      3540\n",
       "Diabetes          3540\n",
       "Alcoholism        3540\n",
       "Handcap           3540\n",
       "SMS_received      3540\n",
       "No-show           3540\n",
       "dtype: int64"
      ]
     },
     "execution_count": 11,
     "metadata": {},
     "output_type": "execute_result"
    }
   ],
   "source": [
    "df[df['Age'] <= 0].count()"
   ]
  },
  {
   "cell_type": "markdown",
   "metadata": {},
   "source": [
    "#### Replacing the incorrect values"
   ]
  },
  {
   "cell_type": "code",
   "execution_count": 12,
   "metadata": {},
   "outputs": [],
   "source": [
    "age_mean = df['Age'].mean() # replacing wrong ages by the average\n",
    "df.loc[df['Age'] <= 0 , 'Age'] = age_mean\n",
    "age_mean = df['Age'].mean() # replacing wrong ages by the average\n",
    "df.loc[df['Age'] <= 0 , 'Age'] = age_mean\n"
   ]
  },
  {
   "cell_type": "code",
   "execution_count": 13,
   "metadata": {
    "scrolled": true
   },
   "outputs": [
    {
     "data": {
      "text/html": [
       "<div>\n",
       "<style scoped>\n",
       "    .dataframe tbody tr th:only-of-type {\n",
       "        vertical-align: middle;\n",
       "    }\n",
       "\n",
       "    .dataframe tbody tr th {\n",
       "        vertical-align: top;\n",
       "    }\n",
       "\n",
       "    .dataframe thead th {\n",
       "        text-align: right;\n",
       "    }\n",
       "</style>\n",
       "<table border=\"1\" class=\"dataframe\">\n",
       "  <thead>\n",
       "    <tr style=\"text-align: right;\">\n",
       "      <th></th>\n",
       "      <th>Gender</th>\n",
       "      <th>ScheduledDay</th>\n",
       "      <th>AppointmentDay</th>\n",
       "      <th>Age</th>\n",
       "      <th>Scholarship</th>\n",
       "      <th>Hipertension</th>\n",
       "      <th>Diabetes</th>\n",
       "      <th>Alcoholism</th>\n",
       "      <th>Handcap</th>\n",
       "      <th>SMS_received</th>\n",
       "      <th>No_show</th>\n",
       "    </tr>\n",
       "  </thead>\n",
       "  <tbody>\n",
       "    <tr>\n",
       "      <th>0</th>\n",
       "      <td>F</td>\n",
       "      <td>2016-04-29 18:38:08+00:00</td>\n",
       "      <td>2016-04-29 00:00:00+00:00</td>\n",
       "      <td>62.0</td>\n",
       "      <td>0</td>\n",
       "      <td>1</td>\n",
       "      <td>0</td>\n",
       "      <td>0</td>\n",
       "      <td>0</td>\n",
       "      <td>0</td>\n",
       "      <td>No</td>\n",
       "    </tr>\n",
       "    <tr>\n",
       "      <th>1</th>\n",
       "      <td>M</td>\n",
       "      <td>2016-04-29 16:08:27+00:00</td>\n",
       "      <td>2016-04-29 00:00:00+00:00</td>\n",
       "      <td>56.0</td>\n",
       "      <td>0</td>\n",
       "      <td>0</td>\n",
       "      <td>0</td>\n",
       "      <td>0</td>\n",
       "      <td>0</td>\n",
       "      <td>0</td>\n",
       "      <td>No</td>\n",
       "    </tr>\n",
       "    <tr>\n",
       "      <th>2</th>\n",
       "      <td>F</td>\n",
       "      <td>2016-04-29 16:19:04+00:00</td>\n",
       "      <td>2016-04-29 00:00:00+00:00</td>\n",
       "      <td>62.0</td>\n",
       "      <td>0</td>\n",
       "      <td>0</td>\n",
       "      <td>0</td>\n",
       "      <td>0</td>\n",
       "      <td>0</td>\n",
       "      <td>0</td>\n",
       "      <td>No</td>\n",
       "    </tr>\n",
       "    <tr>\n",
       "      <th>3</th>\n",
       "      <td>F</td>\n",
       "      <td>2016-04-29 17:29:31+00:00</td>\n",
       "      <td>2016-04-29 00:00:00+00:00</td>\n",
       "      <td>8.0</td>\n",
       "      <td>0</td>\n",
       "      <td>0</td>\n",
       "      <td>0</td>\n",
       "      <td>0</td>\n",
       "      <td>0</td>\n",
       "      <td>0</td>\n",
       "      <td>No</td>\n",
       "    </tr>\n",
       "    <tr>\n",
       "      <th>4</th>\n",
       "      <td>F</td>\n",
       "      <td>2016-04-29 16:07:23+00:00</td>\n",
       "      <td>2016-04-29 00:00:00+00:00</td>\n",
       "      <td>56.0</td>\n",
       "      <td>0</td>\n",
       "      <td>1</td>\n",
       "      <td>1</td>\n",
       "      <td>0</td>\n",
       "      <td>0</td>\n",
       "      <td>0</td>\n",
       "      <td>No</td>\n",
       "    </tr>\n",
       "  </tbody>\n",
       "</table>\n",
       "</div>"
      ],
      "text/plain": [
       "  Gender              ScheduledDay            AppointmentDay   Age  \\\n",
       "0      F 2016-04-29 18:38:08+00:00 2016-04-29 00:00:00+00:00  62.0   \n",
       "1      M 2016-04-29 16:08:27+00:00 2016-04-29 00:00:00+00:00  56.0   \n",
       "2      F 2016-04-29 16:19:04+00:00 2016-04-29 00:00:00+00:00  62.0   \n",
       "3      F 2016-04-29 17:29:31+00:00 2016-04-29 00:00:00+00:00   8.0   \n",
       "4      F 2016-04-29 16:07:23+00:00 2016-04-29 00:00:00+00:00  56.0   \n",
       "\n",
       "   Scholarship  Hipertension  Diabetes  Alcoholism  Handcap  SMS_received  \\\n",
       "0            0             1         0           0        0             0   \n",
       "1            0             0         0           0        0             0   \n",
       "2            0             0         0           0        0             0   \n",
       "3            0             0         0           0        0             0   \n",
       "4            0             1         1           0        0             0   \n",
       "\n",
       "  No_show  \n",
       "0      No  \n",
       "1      No  \n",
       "2      No  \n",
       "3      No  \n",
       "4      No  "
      ]
     },
     "execution_count": 13,
     "metadata": {},
     "output_type": "execute_result"
    }
   ],
   "source": [
    "# correcting header name\n",
    "df.rename(columns = {'No-show':'No_show'}, inplace = True)\n",
    "df.head()"
   ]
  },
  {
   "cell_type": "code",
   "execution_count": 14,
   "metadata": {},
   "outputs": [
    {
     "name": "stdout",
     "output_type": "stream",
     "text": [
      "First 5 rows   Gender              ScheduledDay            AppointmentDay   Age  \\\n",
      "0      F 2016-04-29 18:38:08+00:00 2016-04-29 00:00:00+00:00  62.0   \n",
      "1      M 2016-04-29 16:08:27+00:00 2016-04-29 00:00:00+00:00  56.0   \n",
      "2      F 2016-04-29 16:19:04+00:00 2016-04-29 00:00:00+00:00  62.0   \n",
      "3      F 2016-04-29 17:29:31+00:00 2016-04-29 00:00:00+00:00   8.0   \n",
      "4      F 2016-04-29 16:07:23+00:00 2016-04-29 00:00:00+00:00  56.0   \n",
      "\n",
      "   Scholarship  Hipertension  Diabetes  Alcoholism  Handcap  SMS_received  \\\n",
      "0            0             1         0           0        0             0   \n",
      "1            0             0         0           0        0             0   \n",
      "2            0             0         0           0        0             0   \n",
      "3            0             0         0           0        0             0   \n",
      "4            0             1         1           0        0             0   \n",
      "\n",
      "  No_show  \n",
      "0      No  \n",
      "1      No  \n",
      "2      No  \n",
      "3      No  \n",
      "4      No  \n",
      "Shape (110527, 11)\n",
      "Data description                  Age    Scholarship   Hipertension       Diabetes  \\\n",
      "count  110527.000000  110527.000000  110527.000000  110527.000000   \n",
      "mean       38.276780       0.098266       0.197246       0.071865   \n",
      "std        22.104561       0.297675       0.397921       0.258265   \n",
      "min         1.000000       0.000000       0.000000       0.000000   \n",
      "25%        20.000000       0.000000       0.000000       0.000000   \n",
      "50%        37.088874       0.000000       0.000000       0.000000   \n",
      "75%        55.000000       0.000000       0.000000       0.000000   \n",
      "max       115.000000       1.000000       1.000000       1.000000   \n",
      "\n",
      "          Alcoholism        Handcap   SMS_received  \n",
      "count  110527.000000  110527.000000  110527.000000  \n",
      "mean        0.030400       0.022248       0.321026  \n",
      "std         0.171686       0.161543       0.466873  \n",
      "min         0.000000       0.000000       0.000000  \n",
      "25%         0.000000       0.000000       0.000000  \n",
      "50%         0.000000       0.000000       0.000000  \n",
      "75%         0.000000       0.000000       1.000000  \n",
      "max         1.000000       4.000000       1.000000  \n",
      "<class 'pandas.core.frame.DataFrame'>\n",
      "RangeIndex: 110527 entries, 0 to 110526\n",
      "Data columns (total 11 columns):\n",
      " #   Column          Non-Null Count   Dtype              \n",
      "---  ------          --------------   -----              \n",
      " 0   Gender          110527 non-null  object             \n",
      " 1   ScheduledDay    110527 non-null  datetime64[ns, UTC]\n",
      " 2   AppointmentDay  110527 non-null  datetime64[ns, UTC]\n",
      " 3   Age             110527 non-null  float64            \n",
      " 4   Scholarship     110527 non-null  int64              \n",
      " 5   Hipertension    110527 non-null  int64              \n",
      " 6   Diabetes        110527 non-null  int64              \n",
      " 7   Alcoholism      110527 non-null  int64              \n",
      " 8   Handcap         110527 non-null  int64              \n",
      " 9   SMS_received    110527 non-null  int64              \n",
      " 10  No_show         110527 non-null  object             \n",
      "dtypes: datetime64[ns, UTC](2), float64(1), int64(6), object(2)\n",
      "memory usage: 9.3+ MB\n",
      "Info None\n"
     ]
    }
   ],
   "source": [
    "see(df) # another look to the numbers after amending the incorrect values"
   ]
  },
  {
   "cell_type": "markdown",
   "metadata": {},
   "source": [
    "#### Converting No Show values to One and Zero for easier charts"
   ]
  },
  {
   "cell_type": "code",
   "execution_count": 15,
   "metadata": {},
   "outputs": [
    {
     "name": "stderr",
     "output_type": "stream",
     "text": [
      "C:\\Users\\MAGED~1.YOU\\AppData\\Local\\Temp/ipykernel_11232/3193600732.py:2: SettingWithCopyWarning: \n",
      "A value is trying to be set on a copy of a slice from a DataFrame\n",
      "\n",
      "See the caveats in the documentation: https://pandas.pydata.org/pandas-docs/stable/user_guide/indexing.html#returning-a-view-versus-a-copy\n",
      "  df.No_show[df['No_show'] == 'Yes'] = '1'\n",
      "C:\\Users\\MAGED~1.YOU\\AppData\\Local\\Temp/ipykernel_11232/3193600732.py:3: SettingWithCopyWarning: \n",
      "A value is trying to be set on a copy of a slice from a DataFrame\n",
      "\n",
      "See the caveats in the documentation: https://pandas.pydata.org/pandas-docs/stable/user_guide/indexing.html#returning-a-view-versus-a-copy\n",
      "  df.No_show[df['No_show'] == 'No'] = '0'\n"
     ]
    }
   ],
   "source": [
    "# Converting Yes & No values into numbers to make histograms\n",
    "df.No_show[df['No_show'] == 'Yes'] = '1'\n",
    "df.No_show[df['No_show'] == 'No'] = '0'\n",
    "df['No_show'] = pd.to_numeric(df['No_show'])"
   ]
  },
  {
   "cell_type": "code",
   "execution_count": 16,
   "metadata": {
    "scrolled": true
   },
   "outputs": [
    {
     "data": {
      "text/plain": [
       "array([0, 1], dtype=int64)"
      ]
     },
     "execution_count": 16,
     "metadata": {},
     "output_type": "execute_result"
    }
   ],
   "source": [
    "df['No_show'].unique()"
   ]
  },
  {
   "cell_type": "markdown",
   "metadata": {},
   "source": [
    "#### Checking the gap time between the appointment day and the scheduled day"
   ]
  },
  {
   "cell_type": "code",
   "execution_count": 17,
   "metadata": {},
   "outputs": [
    {
     "data": {
      "text/plain": [
       "count    110527.000000\n",
       "mean          9.183702\n",
       "std          15.254996\n",
       "min          -7.000000\n",
       "25%          -1.000000\n",
       "50%           3.000000\n",
       "75%          14.000000\n",
       "max         178.000000\n",
       "Name: gaptime, dtype: float64"
      ]
     },
     "execution_count": 17,
     "metadata": {},
     "output_type": "execute_result"
    }
   ],
   "source": [
    "df['gaptime'] = (df['AppointmentDay'] - df['ScheduledDay']).dt.days # difference between appointment date and scheduled date in days\n",
    "\n",
    "\n",
    "df['gaptime'].describe()"
   ]
  },
  {
   "cell_type": "markdown",
   "metadata": {},
   "source": [
    "#### New dataframes for easier filtering"
   ]
  },
  {
   "cell_type": "code",
   "execution_count": 18,
   "metadata": {},
   "outputs": [],
   "source": [
    "showed = df[df['No_show']==0] # creating new dfs for easier filtering and counting\n",
    "not_showed = df[df['No_show']==1]"
   ]
  },
  {
   "cell_type": "code",
   "execution_count": 19,
   "metadata": {
    "scrolled": true
   },
   "outputs": [
    {
     "name": "stdout",
     "output_type": "stream",
     "text": [
      "First 5 rows   Gender              ScheduledDay            AppointmentDay   Age  \\\n",
      "0      F 2016-04-29 18:38:08+00:00 2016-04-29 00:00:00+00:00  62.0   \n",
      "1      M 2016-04-29 16:08:27+00:00 2016-04-29 00:00:00+00:00  56.0   \n",
      "2      F 2016-04-29 16:19:04+00:00 2016-04-29 00:00:00+00:00  62.0   \n",
      "3      F 2016-04-29 17:29:31+00:00 2016-04-29 00:00:00+00:00   8.0   \n",
      "4      F 2016-04-29 16:07:23+00:00 2016-04-29 00:00:00+00:00  56.0   \n",
      "\n",
      "   Scholarship  Hipertension  Diabetes  Alcoholism  Handcap  SMS_received  \\\n",
      "0            0             1         0           0        0             0   \n",
      "1            0             0         0           0        0             0   \n",
      "2            0             0         0           0        0             0   \n",
      "3            0             0         0           0        0             0   \n",
      "4            0             1         1           0        0             0   \n",
      "\n",
      "   No_show  gaptime  \n",
      "0        0       -1  \n",
      "1        0       -1  \n",
      "2        0       -1  \n",
      "3        0       -1  \n",
      "4        0       -1  \n",
      "Shape (88208, 12)\n",
      "Data description                 Age   Scholarship  Hipertension      Diabetes    Alcoholism  \\\n",
      "count  88208.000000  88208.000000  88208.000000  88208.000000  88208.000000   \n",
      "mean      39.009861      0.093903      0.204392      0.073837      0.030417   \n",
      "std       22.276958      0.291695      0.403259      0.261507      0.171732   \n",
      "min        1.000000      0.000000      0.000000      0.000000      0.000000   \n",
      "25%       21.000000      0.000000      0.000000      0.000000      0.000000   \n",
      "50%       38.000000      0.000000      0.000000      0.000000      0.000000   \n",
      "75%       56.000000      0.000000      0.000000      0.000000      0.000000   \n",
      "max      115.000000      1.000000      1.000000      1.000000      1.000000   \n",
      "\n",
      "            Handcap  SMS_received  No_show       gaptime  \n",
      "count  88208.000000  88208.000000  88208.0  88208.000000  \n",
      "mean       0.022742      0.291334      0.0      7.754659  \n",
      "std        0.162750      0.454380      0.0     14.550398  \n",
      "min        0.000000      0.000000      0.0     -1.000000  \n",
      "25%        0.000000      0.000000      0.0     -1.000000  \n",
      "50%        0.000000      0.000000      0.0      1.000000  \n",
      "75%        0.000000      1.000000      0.0     11.000000  \n",
      "max        4.000000      1.000000      0.0    178.000000  \n",
      "<class 'pandas.core.frame.DataFrame'>\n",
      "Int64Index: 88208 entries, 0 to 110526\n",
      "Data columns (total 12 columns):\n",
      " #   Column          Non-Null Count  Dtype              \n",
      "---  ------          --------------  -----              \n",
      " 0   Gender          88208 non-null  object             \n",
      " 1   ScheduledDay    88208 non-null  datetime64[ns, UTC]\n",
      " 2   AppointmentDay  88208 non-null  datetime64[ns, UTC]\n",
      " 3   Age             88208 non-null  float64            \n",
      " 4   Scholarship     88208 non-null  int64              \n",
      " 5   Hipertension    88208 non-null  int64              \n",
      " 6   Diabetes        88208 non-null  int64              \n",
      " 7   Alcoholism      88208 non-null  int64              \n",
      " 8   Handcap         88208 non-null  int64              \n",
      " 9   SMS_received    88208 non-null  int64              \n",
      " 10  No_show         88208 non-null  int64              \n",
      " 11  gaptime         88208 non-null  int64              \n",
      "dtypes: datetime64[ns, UTC](2), float64(1), int64(8), object(1)\n",
      "memory usage: 8.7+ MB\n",
      "Info None\n"
     ]
    }
   ],
   "source": [
    "see(showed) # exploring the showed dataframe"
   ]
  },
  {
   "cell_type": "code",
   "execution_count": 20,
   "metadata": {},
   "outputs": [
    {
     "name": "stdout",
     "output_type": "stream",
     "text": [
      "First 5 rows    Gender              ScheduledDay            AppointmentDay   Age  \\\n",
      "6       F 2016-04-27 15:05:12+00:00 2016-04-29 00:00:00+00:00  23.0   \n",
      "7       F 2016-04-27 15:39:58+00:00 2016-04-29 00:00:00+00:00  39.0   \n",
      "11      M 2016-04-26 08:44:12+00:00 2016-04-29 00:00:00+00:00  29.0   \n",
      "17      F 2016-04-28 09:28:57+00:00 2016-04-29 00:00:00+00:00  40.0   \n",
      "20      F 2016-04-27 07:51:14+00:00 2016-04-29 00:00:00+00:00  30.0   \n",
      "\n",
      "    Scholarship  Hipertension  Diabetes  Alcoholism  Handcap  SMS_received  \\\n",
      "6             0             0         0           0        0             0   \n",
      "7             0             0         0           0        0             0   \n",
      "11            0             0         0           0        0             1   \n",
      "17            1             0         0           0        0             0   \n",
      "20            0             0         0           0        0             0   \n",
      "\n",
      "    No_show  gaptime  \n",
      "6         1        1  \n",
      "7         1        1  \n",
      "11        1        2  \n",
      "17        1        0  \n",
      "20        1        1  \n",
      "Shape (22319, 12)\n",
      "Data description                 Age   Scholarship  Hipertension      Diabetes    Alcoholism  \\\n",
      "count  22319.000000  22319.000000  22319.000000  22319.000000  22319.000000   \n",
      "mean      35.379533      0.115507      0.169004      0.064071      0.030333   \n",
      "std       21.163065      0.319640      0.374764      0.244885      0.171505   \n",
      "min        1.000000      0.000000      0.000000      0.000000      0.000000   \n",
      "25%       18.000000      0.000000      0.000000      0.000000      0.000000   \n",
      "50%       34.000000      0.000000      0.000000      0.000000      0.000000   \n",
      "75%       51.000000      0.000000      0.000000      0.000000      0.000000   \n",
      "max      115.000000      1.000000      1.000000      1.000000      1.000000   \n",
      "\n",
      "            Handcap  SMS_received  No_show       gaptime  \n",
      "count  22319.000000  22319.000000  22319.0  22319.000000  \n",
      "mean       0.020297      0.438371      1.0     14.831489  \n",
      "std        0.156670      0.496198      0.0     16.605912  \n",
      "min        0.000000      0.000000      1.0     -7.000000  \n",
      "25%        0.000000      0.000000      1.0      3.000000  \n",
      "50%        0.000000      0.000000      1.0     10.000000  \n",
      "75%        0.000000      1.000000      1.0     22.000000  \n",
      "max        4.000000      1.000000      1.0    178.000000  \n",
      "<class 'pandas.core.frame.DataFrame'>\n",
      "Int64Index: 22319 entries, 6 to 110516\n",
      "Data columns (total 12 columns):\n",
      " #   Column          Non-Null Count  Dtype              \n",
      "---  ------          --------------  -----              \n",
      " 0   Gender          22319 non-null  object             \n",
      " 1   ScheduledDay    22319 non-null  datetime64[ns, UTC]\n",
      " 2   AppointmentDay  22319 non-null  datetime64[ns, UTC]\n",
      " 3   Age             22319 non-null  float64            \n",
      " 4   Scholarship     22319 non-null  int64              \n",
      " 5   Hipertension    22319 non-null  int64              \n",
      " 6   Diabetes        22319 non-null  int64              \n",
      " 7   Alcoholism      22319 non-null  int64              \n",
      " 8   Handcap         22319 non-null  int64              \n",
      " 9   SMS_received    22319 non-null  int64              \n",
      " 10  No_show         22319 non-null  int64              \n",
      " 11  gaptime         22319 non-null  int64              \n",
      "dtypes: datetime64[ns, UTC](2), float64(1), int64(8), object(1)\n",
      "memory usage: 2.2+ MB\n",
      "Info None\n"
     ]
    }
   ],
   "source": [
    "see(not_showed) # exploring the not showed dataframe"
   ]
  },
  {
   "cell_type": "markdown",
   "metadata": {},
   "source": [
    "<a id='eda'></a>\n",
    "## Exploratory Data Analysis\n",
    "\n",
    "\n",
    "\n",
    "### Percentage of the people showed-up on the appointment"
   ]
  },
  {
   "cell_type": "code",
   "execution_count": 21,
   "metadata": {},
   "outputs": [
    {
     "name": "stdout",
     "output_type": "stream",
     "text": [
      "All appointments :  110527 \n",
      " Number of people showed :  88208 \n",
      " and the number of people non-showed :  22319\n",
      "The percentage of the no show to all appointments :  20.193255946510806 %\n"
     ]
    },
    {
     "data": {
      "text/plain": [
       "<matplotlib.legend.Legend at 0x1bd0c12e3d0>"
      ]
     },
     "execution_count": 21,
     "metadata": {},
     "output_type": "execute_result"
    },
    {
     "data": {
      "image/png": "[encoded data removed]",
      "text/plain": [
       "<Figure size 1584x720 with 1 Axes>"
      ]
     },
     "metadata": {},
     "output_type": "display_data"
    }
   ],
   "source": [
    "ppl = df['No_show'].count()\n",
    "ppl_showed = df[df['No_show'] == 0 ].count()['No_show']\n",
    "ppl_no_show = df[df['No_show'] == 1].count()['No_show']\n",
    "no_show_perc = (ppl_no_show / ppl)*100\n",
    "\n",
    "print('All appointments : ',ppl,'\\n Number of people showed : ', ppl_showed,'\\n and the number of people non-showed : ',ppl_no_show)\n",
    "print('The percentage of the no show to all appointments : ', no_show_perc,'%')\n",
    "\n",
    "df['No_show'].value_counts().plot(kind = 'pie',figsize=(22,10), autopct='%1.1f%%', labels = {'Showed','Not Showed'});\n",
    "plt.title(\"Percentage of the people showed-up on appointment\")\n",
    "plt.legend()\n",
    "\n",
    "\n"
   ]
  },
  {
   "cell_type": "markdown",
   "metadata": {},
   "source": [
    "### Which gender is not showing up in the appointments time the most?"
   ]
  },
  {
   "cell_type": "code",
   "execution_count": 22,
   "metadata": {},
   "outputs": [
    {
     "name": "stdout",
     "output_type": "stream",
     "text": [
      "Males that didn't show :  7725 from total male patients :  38687 | percentage of no show :  19.967947889471915 % \n",
      "Females that didn't show :  14594 from total female patients :  71840 |percentage of no show :  20.31458797327394 %\n",
      "Gender\n",
      "F    14594\n",
      "M     7725\n",
      "Name: No_show, dtype: int64\n"
     ]
    },
    {
     "data": {
      "text/plain": [
       "<matplotlib.legend.Legend at 0x1bd0da42fd0>"
      ]
     },
     "execution_count": 22,
     "metadata": {},
     "output_type": "execute_result"
    },
    {
     "data": {
      "image/png": "[encoded data removed]",
      "text/plain": [
       "<Figure size 1080x432 with 1 Axes>"
      ]
     },
     "metadata": {
      "needs_background": "light"
     },
     "output_type": "display_data"
    }
   ],
   "source": [
    "f_no = not_showed[not_showed['Gender'] == 'F'].count()['Gender']\n",
    "m_no = not_showed[not_showed['Gender'] == 'M'].count()['Gender']\n",
    "f = df[df['Gender'] == \"F\"].count()['Gender']\n",
    "m = df[df['Gender']== \"M\"].count()['Gender']\n",
    "\n",
    "print('Males that didn\\'t show : ',m_no, 'from total male patients : ',m,'| percentage of no show : ', (m_no/m)*100,\"%\",\n",
    "      '\\nFemales that didn\\'t show : ',f_no, 'from total female patients : ',f, '|percentage of no show : ', (f_no/f)*100,\"%\")\n",
    "print(not_showed.groupby('Gender').No_show.count())\n",
    "not_showed.groupby('Gender').No_show.count().plot(kind='bar',figsize=(15,6), label = \"No Show\", color = 'red');\n",
    "df.groupby('Gender').No_show.count().plot(kind='line',figsize=(15,6), label = 'Patients', color = 'blue');\n",
    "plt.xlabel(\"Gender\")\n",
    "plt.ylabel(\"Patients\")\n",
    "plt.title(\"Relation between Gender and patients who did not show\")\n",
    "plt.legend()\n",
    "\n",
    " "
   ]
  },
  {
   "cell_type": "markdown",
   "metadata": {},
   "source": [
    "### Gap between schedule day and appointment day"
   ]
  },
  {
   "cell_type": "code",
   "execution_count": 23,
   "metadata": {},
   "outputs": [
    {
     "name": "stdout",
     "output_type": "stream",
     "text": [
      "gaptime\n",
      "-7         1\n",
      "-2         4\n",
      "-1      1792\n",
      " 0      1113\n",
      " 1      1602\n",
      "        ... \n",
      " 154       6\n",
      " 161       2\n",
      " 168       1\n",
      " 175       6\n",
      " 178       2\n",
      "Name: No_show, Length: 113, dtype: int64\n"
     ]
    },
    {
     "data": {
      "text/plain": [
       "<matplotlib.legend.Legend at 0x1bd0c876040>"
      ]
     },
     "execution_count": 23,
     "metadata": {},
     "output_type": "execute_result"
    },
    {
     "data": {
      "image/png": "[encoded data removed]",
      "text/plain": [
       "<Figure size 1080x432 with 1 Axes>"
      ]
     },
     "metadata": {
      "needs_background": "light"
     },
     "output_type": "display_data"
    }
   ],
   "source": [
    "print(not_showed.groupby('gaptime').No_show.count())\n",
    "not_showed.groupby('gaptime').No_show.count().plot(kind='line',figsize=(15,6), label = 'Patients', color = 'blue');\n",
    "plt.xlabel(\"Gap between appointment and schedule dates\")\n",
    "plt.ylabel(\"Patients\")\n",
    "plt.title(\"Relation between gaptime and patients who did not show\")\n",
    "plt.legend()\n",
    "\n"
   ]
  },
  {
   "cell_type": "markdown",
   "metadata": {},
   "source": [
    "### Age of people who didn't show"
   ]
  },
  {
   "cell_type": "code",
   "execution_count": 24,
   "metadata": {},
   "outputs": [
    {
     "name": "stdout",
     "output_type": "stream",
     "text": [
      "The average of patients that didn't show is  39.00986105668502 \n",
      "The Average of patients that didn't show is :  35.379532712993374\n"
     ]
    }
   ],
   "source": [
    "print('The average of patients that didn\\'t show is ',showed['Age'].mean(),'\\nThe Average of patients that didn\\'t show is : ',not_showed['Age'].mean())\n",
    "#Age average for patients"
   ]
  },
  {
   "cell_type": "code",
   "execution_count": 25,
   "metadata": {},
   "outputs": [
    {
     "data": {
      "text/plain": [
       "<matplotlib.legend.Legend at 0x1bd0674fc10>"
      ]
     },
     "execution_count": 25,
     "metadata": {},
     "output_type": "execute_result"
    },
    {
     "data": {
      "image/png": "[encoded data removed]",
      "text/plain": [
       "<Figure size 432x288 with 1 Axes>"
      ]
     },
     "metadata": {
      "needs_background": "light"
     },
     "output_type": "display_data"
    }
   ],
   "source": [
    "\n",
    "# visualize the average of people who came & who didn't\n",
    "\n",
    "not_showed.groupby('Age')['No_show'].value_counts().hist(alpha=0.6,bins=15,label='No Show');\n",
    "showed.groupby('Age')['No_show'].value_counts().hist(alpha=0.6,bins=15,label='Show');\n",
    "plt.xlabel(\"Showed\")\n",
    "plt.ylabel(\"Age\")\n",
    "plt.title(\"Age of people who showed\")\n",
    "plt.legend()"
   ]
  },
  {
   "cell_type": "markdown",
   "metadata": {},
   "source": [
    "### Education of the patients that didn't show"
   ]
  },
  {
   "cell_type": "code",
   "execution_count": 26,
   "metadata": {
    "scrolled": true
   },
   "outputs": [
    {
     "name": "stdout",
     "output_type": "stream",
     "text": [
      "Scholarship  No_show\n",
      "0            0          79925\n",
      "             1          19741\n",
      "1            0           8283\n",
      "             1           2578\n",
      "Name: No_show, dtype: int64\n",
      "Scholarship\n",
      "0    19.807156\n",
      "1    23.736304\n",
      "Name: No_show, dtype: float64\n"
     ]
    },
    {
     "data": {
      "text/plain": [
       "<matplotlib.legend.Legend at 0x1bd0e931580>"
      ]
     },
     "execution_count": 26,
     "metadata": {},
     "output_type": "execute_result"
    },
    {
     "data": {
      "image/png": "[encoded data removed]",
      "text/plain": [
       "<Figure size 1584x720 with 1 Axes>"
      ]
     },
     "metadata": {
      "needs_background": "light"
     },
     "output_type": "display_data"
    }
   ],
   "source": [
    "# using group by function to find relations between features\n",
    "# and then see the relation between people who has scholarship and people who showed up and who didn't\n",
    "\n",
    "print(df.groupby('Scholarship')['No_show'].value_counts())\n",
    "print(df.groupby('Scholarship')['No_show'].mean()*100)\n",
    "\n",
    "\n",
    "df.groupby('Scholarship')['No_show'].mean().plot(kind = 'bar',figsize=(22,10))\n",
    "\n",
    "plt.xlabel(\"Scholarship\")\n",
    "plt.ylabel(\"Patients\")\n",
    "plt.title(\"relation between patients who have scolarship and patients who showed\")\n",
    "plt.legend()"
   ]
  },
  {
   "cell_type": "markdown",
   "metadata": {},
   "source": [
    "### Did the not showed patients receive SMS?"
   ]
  },
  {
   "cell_type": "code",
   "execution_count": 27,
   "metadata": {
    "scrolled": true
   },
   "outputs": [
    {
     "name": "stdout",
     "output_type": "stream",
     "text": [
      "SMS_received  No_show\n",
      "0             0          62510\n",
      "              1          12535\n",
      "1             0          25698\n",
      "              1           9784\n",
      "Name: No_show, dtype: int64\n",
      "0    12535\n",
      "1     9784\n",
      "Name: SMS_received, dtype: int64\n"
     ]
    },
    {
     "data": {
      "text/plain": [
       "<matplotlib.legend.Legend at 0x1bd0eb16f40>"
      ]
     },
     "execution_count": 27,
     "metadata": {},
     "output_type": "execute_result"
    },
    {
     "data": {
      "image/png": "[encoded data removed]",
      "text/plain": [
       "<Figure size 1008x360 with 1 Axes>"
      ]
     },
     "metadata": {},
     "output_type": "display_data"
    }
   ],
   "source": [
    "# using group by function to find relations between features\n",
    "# and then see the relation between people who has scholarship and people who showed up and who didn't\n",
    "\n",
    "print(df.groupby('SMS_received')['No_show'].value_counts())\n",
    "print(not_showed['SMS_received'].value_counts())\n",
    "not_showed['SMS_received'].value_counts().plot(kind = 'pie',figsize=(14,5), autopct='%1.1f%%', labels = ['No SMS','SMS'])\n",
    "plt.xlabel(\"SMS_received\")\n",
    "plt.ylabel(\"Patiens\")\n",
    "plt.title(\"Did the non showed patients receive SMS?\")\n",
    "plt.legend()"
   ]
  },
  {
   "cell_type": "markdown",
   "metadata": {},
   "source": [
    "### Relation between Alcoholism & patients who didn't show"
   ]
  },
  {
   "cell_type": "code",
   "execution_count": 28,
   "metadata": {},
   "outputs": [
    {
     "name": "stdout",
     "output_type": "stream",
     "text": [
      "Alcoholism\n",
      "0    20.194649\n",
      "1    20.148810\n",
      "Name: No_show, dtype: float64\n"
     ]
    },
    {
     "data": {
      "text/plain": [
       "<matplotlib.legend.Legend at 0x1bd0e9bfbb0>"
      ]
     },
     "execution_count": 28,
     "metadata": {},
     "output_type": "execute_result"
    },
    {
     "data": {
      "image/png": "[encoded data removed]",
      "text/plain": [
       "<Figure size 1584x720 with 1 Axes>"
      ]
     },
     "metadata": {
      "needs_background": "light"
     },
     "output_type": "display_data"
    }
   ],
   "source": [
    "print(df.groupby('Alcoholism')['No_show'].mean()*100)\n",
    "df.groupby('Alcoholism')['No_show'].mean().plot(kind='bar',figsize=(22,10));\n",
    "plt.xlabel(\"Showed\")\n",
    "plt.ylabel(\"Alcoholism\")\n",
    "plt.title(\"relation between alcoholics and patients who showed\")\n",
    "plt.legend()"
   ]
  },
  {
   "cell_type": "markdown",
   "metadata": {},
   "source": [
    "### Relation between Hipertension & patients who didn't show"
   ]
  },
  {
   "cell_type": "code",
   "execution_count": 29,
   "metadata": {},
   "outputs": [
    {
     "name": "stdout",
     "output_type": "stream",
     "text": [
      "Hipertension\n",
      "0    20.903681\n",
      "1    17.301959\n",
      "Name: No_show, dtype: float64\n"
     ]
    },
    {
     "data": {
      "text/plain": [
       "<matplotlib.legend.Legend at 0x1bd0eccdf40>"
      ]
     },
     "execution_count": 29,
     "metadata": {},
     "output_type": "execute_result"
    },
    {
     "data": {
      "image/png": "[encoded data removed]",
      "text/plain": [
       "<Figure size 1584x720 with 1 Axes>"
      ]
     },
     "metadata": {
      "needs_background": "light"
     },
     "output_type": "display_data"
    }
   ],
   "source": [
    "print(df.groupby('Hipertension')['No_show'].mean()*100)\n",
    "df.groupby('Hipertension')['No_show'].mean().plot(kind='bar',figsize=(22,10));\n",
    "plt.xlabel(\"Showed\")\n",
    "plt.ylabel(\"Hipertension\")\n",
    "plt.title(\"relation between Hipertension and patients who showed\")\n",
    "plt.legend()"
   ]
  },
  {
   "cell_type": "markdown",
   "metadata": {},
   "source": [
    "### Relation between Diabetes & patients who didn't show"
   ]
  },
  {
   "cell_type": "code",
   "execution_count": 30,
   "metadata": {},
   "outputs": [
    {
     "name": "stdout",
     "output_type": "stream",
     "text": [
      "Diabetes\n",
      "0    20.362825\n",
      "1    18.003273\n",
      "Name: No_show, dtype: float64\n"
     ]
    },
    {
     "data": {
      "text/plain": [
       "<matplotlib.legend.Legend at 0x1bd0eade5e0>"
      ]
     },
     "execution_count": 30,
     "metadata": {},
     "output_type": "execute_result"
    },
    {
     "data": {
      "image/png": "[encoded data removed]",
      "text/plain": [
       "<Figure size 1584x720 with 1 Axes>"
      ]
     },
     "metadata": {
      "needs_background": "light"
     },
     "output_type": "display_data"
    }
   ],
   "source": [
    "print(df.groupby('Diabetes')['No_show'].mean()*100)\n",
    "df.groupby('Diabetes')['No_show'].mean().plot(kind='bar',figsize=(22,10));\n",
    "plt.xlabel(\"Showed\")\n",
    "plt.ylabel(\"Diabetes\")\n",
    "plt.title(\"relation between Diabetes and patients who showed\")\n",
    "plt.legend()"
   ]
  },
  {
   "cell_type": "markdown",
   "metadata": {},
   "source": [
    "<a id='conclusions'></a>\n",
    "## Conclusions\n",
    "### Data conclusion & limitations\n",
    "> There are some incorrect data as the negative value ages.<br />\n",
    "> Some schedule dates after the appointment dates which doesn't make any sense.<br />\n",
    "> The data is limited as it doesn't show if the patient's case is serious or not and if the appointment date was the patient's first choice or they couldn't schedule the needed one.<br />\n",
    "> The data doesn't show if the patient has booked the appointment with themself or somebody booked it for them.\n",
    "\n",
    "\n",
    "### Exploratory conclusion\n",
    "> **No Show**: As we can see 22,319 out of 110,527 patients didn't show on time which makes a 20% of the appointments with no show.<br />\n",
    ">**Gender**: The Gender is not a good factor of comparison as mostly both males or females have 20% of no show to their appointments.<br />\n",
    ">**Difference between appointment date and schedule date**: Patients that has near appointment dates from the schedule date are the mostly not showing.<br />\n",
    ">**Age**: Patients who are most likely to show up on time has average age 39 Years old, and who are most likely to not show up on time has average age 35 years old. <br />\n",
    ">**Scholarship**: About 24% of the patients that have scholarship didn't show & about 20% of the patients that doesnt have a scholarship had shown. <br />\n",
    ">**SMS**: 43.8% of the paitents who didn't show on time had received a SMS.<br />\n",
    ">**Alchoholism**: Alchoholism can't be a factor of comparison as in both cases the percentage of the no show is mostly same 20%. <br />\n",
    ">**Hipertension & Diabetes**: Has less percentage of show on time.\n"
   ]
  }
 ],
 "metadata": {
  "kernelspec": {
   "display_name": "Python 3 (ipykernel)",
   "language": "python",
   "name": "python3"
  },
  "language_info": {
   "codemirror_mode": {
    "name": "ipython",
    "version": 3
   },
   "file_extension": ".py",
   "mimetype": "text/x-python",
   "name": "python",
   "nbconvert_exporter": "python",
   "pygments_lexer": "ipython3",
   "version": "3.9.7"
  }
 },
 "nbformat": 4,
 "nbformat_minor": 2
}
